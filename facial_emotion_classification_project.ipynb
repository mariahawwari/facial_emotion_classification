{
  "nbformat": 4,
  "nbformat_minor": 0,
  "metadata": {
    "colab": {
      "provenance": []
    },
    "kernelspec": {
      "name": "python3",
      "display_name": "Python 3"
    },
    "language_info": {
      "name": "python"
    }
  },
  "cells": [
    {
      "cell_type": "code",
      "source": [
        "import kagglehub\n",
        "\n",
        "# Download latest version\n",
        "path = kagglehub.dataset_download(\"yusufkorayhasdemir/fer2013csv\")\n",
        "\n",
        "print(\"Path to dataset files:\", path)"
      ],
      "metadata": {
        "colab": {
          "base_uri": "https://localhost:8080/"
        },
        "id": "35eImWDJN6pK",
        "outputId": "5609a166-7dad-4454-f4f9-1e9f19154036"
      },
      "execution_count": 2,
      "outputs": [
        {
          "output_type": "stream",
          "name": "stdout",
          "text": [
            "Downloading from https://www.kaggle.com/api/v1/datasets/download/yusufkorayhasdemir/fer2013csv?dataset_version_number=1...\n"
          ]
        },
        {
          "output_type": "stream",
          "name": "stderr",
          "text": [
            "100%|██████████| 96.6M/96.6M [00:00<00:00, 164MB/s]"
          ]
        },
        {
          "output_type": "stream",
          "name": "stdout",
          "text": [
            "Extracting files...\n"
          ]
        },
        {
          "output_type": "stream",
          "name": "stderr",
          "text": [
            "\n"
          ]
        },
        {
          "output_type": "stream",
          "name": "stdout",
          "text": [
            "Path to dataset files: /root/.cache/kagglehub/datasets/yusufkorayhasdemir/fer2013csv/versions/1\n"
          ]
        }
      ]
    },
    {
      "cell_type": "code",
      "execution_count": 7,
      "metadata": {
        "colab": {
          "base_uri": "https://localhost:8080/",
          "height": 1000
        },
        "id": "Ufw6SAUBLSho",
        "outputId": "350f5c6c-5369-4fca-ef76-0452aab5eea4"
      },
      "outputs": [
        {
          "output_type": "display_data",
          "data": {
            "text/plain": [
              "<Figure size 640x480 with 1 Axes>"
            ],
            "image/png": "[encoded data removed]"
          },
          "metadata": {}
        },
        {
          "output_type": "stream",
          "name": "stderr",
          "text": [
            "/usr/local/lib/python3.11/dist-packages/keras/src/layers/convolutional/base_conv.py:107: UserWarning: Do not pass an `input_shape`/`input_dim` argument to a layer. When using Sequential models, prefer using an `Input(shape)` object as the first layer in the model instead.\n",
            "  super().__init__(activity_regularizer=activity_regularizer, **kwargs)\n"
          ]
        },
        {
          "output_type": "stream",
          "name": "stdout",
          "text": [
            "Epoch 1/10\n",
            "\u001b[1m449/449\u001b[0m \u001b[32m━━━━━━━━━━━━━━━━━━━━\u001b[0m\u001b[37m\u001b[0m \u001b[1m87s\u001b[0m 190ms/step - accuracy: 0.2839 - loss: 1.7675 - val_accuracy: 0.4288 - val_loss: 1.4842\n",
            "Epoch 2/10\n",
            "\u001b[1m449/449\u001b[0m \u001b[32m━━━━━━━━━━━━━━━━━━━━\u001b[0m\u001b[37m\u001b[0m \u001b[1m82s\u001b[0m 184ms/step - accuracy: 0.4117 - loss: 1.5128 - val_accuracy: 0.4756 - val_loss: 1.3824\n",
            "Epoch 3/10\n",
            "\u001b[1m449/449\u001b[0m \u001b[32m━━━━━━━━━━━━━━━━━━━━\u001b[0m\u001b[37m\u001b[0m \u001b[1m85s\u001b[0m 189ms/step - accuracy: 0.4596 - loss: 1.4109 - val_accuracy: 0.4948 - val_loss: 1.3480\n",
            "Epoch 4/10\n",
            "\u001b[1m449/449\u001b[0m \u001b[32m━━━━━━━━━━━━━━━━━━━━\u001b[0m\u001b[37m\u001b[0m \u001b[1m138s\u001b[0m 180ms/step - accuracy: 0.4901 - loss: 1.3441 - val_accuracy: 0.4969 - val_loss: 1.3208\n",
            "Epoch 5/10\n",
            "\u001b[1m449/449\u001b[0m \u001b[32m━━━━━━━━━━━━━━━━━━━━\u001b[0m\u001b[37m\u001b[0m \u001b[1m81s\u001b[0m 178ms/step - accuracy: 0.5094 - loss: 1.2913 - val_accuracy: 0.5114 - val_loss: 1.2827\n",
            "Epoch 6/10\n",
            "\u001b[1m449/449\u001b[0m \u001b[32m━━━━━━━━━━━━━━━━━━━━\u001b[0m\u001b[37m\u001b[0m \u001b[1m80s\u001b[0m 178ms/step - accuracy: 0.5286 - loss: 1.2355 - val_accuracy: 0.5084 - val_loss: 1.2900\n",
            "Epoch 7/10\n",
            "\u001b[1m449/449\u001b[0m \u001b[32m━━━━━━━━━━━━━━━━━━━━\u001b[0m\u001b[37m\u001b[0m \u001b[1m81s\u001b[0m 181ms/step - accuracy: 0.5424 - loss: 1.1992 - val_accuracy: 0.5272 - val_loss: 1.2536\n",
            "Epoch 8/10\n",
            "\u001b[1m449/449\u001b[0m \u001b[32m━━━━━━━━━━━━━━━━━━━━\u001b[0m\u001b[37m\u001b[0m \u001b[1m81s\u001b[0m 179ms/step - accuracy: 0.5557 - loss: 1.1563 - val_accuracy: 0.5216 - val_loss: 1.2508\n",
            "Epoch 9/10\n",
            "\u001b[1m449/449\u001b[0m \u001b[32m━━━━━━━━━━━━━━━━━━━━\u001b[0m\u001b[37m\u001b[0m \u001b[1m81s\u001b[0m 180ms/step - accuracy: 0.5840 - loss: 1.1000 - val_accuracy: 0.5340 - val_loss: 1.2411\n",
            "Epoch 10/10\n",
            "\u001b[1m449/449\u001b[0m \u001b[32m━━━━━━━━━━━━━━━━━━━━\u001b[0m\u001b[37m\u001b[0m \u001b[1m89s\u001b[0m 197ms/step - accuracy: 0.5897 - loss: 1.0721 - val_accuracy: 0.5290 - val_loss: 1.2452\n",
            "\u001b[1m1/1\u001b[0m \u001b[32m━━━━━━━━━━━━━━━━━━━━\u001b[0m\u001b[37m\u001b[0m \u001b[1m0s\u001b[0m 123ms/step\n"
          ]
        },
        {
          "output_type": "display_data",
          "data": {
            "text/plain": [
              "<Figure size 640x480 with 1 Axes>"
            ],
            "image/png": "[encoded data removed]"
          },
          "metadata": {}
        }
      ],
      "source": [
        "# Emotion Recognition Using FER2013 Dataset\n",
        "# Author: Maria Hawari\n",
        "# Description: A CNN-based deep learning model for emotion recognition using the FER2013 dataset.\n",
        "\n",
        "# Step 1: Import Required Libraries\n",
        "import pandas as pd\n",
        "import numpy as np\n",
        "import matplotlib.pyplot as plt\n",
        "import os\n",
        "from sklearn.model_selection import train_test_split\n",
        "from tensorflow.keras.utils import to_categorical\n",
        "from tensorflow.keras.models import Sequential\n",
        "from tensorflow.keras.layers import Conv2D, MaxPooling2D, Flatten, Dense, Dropout\n",
        "\n",
        "# Step 2: Load the Dataset\n",
        "df = pd.read_csv(path + \"/fer2013.csv\")\n",
        "\n",
        "# Step 3: Define Emotion Labels\n",
        "emotion_labels = {\n",
        "    0: \"Angry\",\n",
        "    1: \"Disgust\",\n",
        "    2: \"Fear\",\n",
        "    3: \"Happy\",\n",
        "    4: \"Sad\",\n",
        "    5: \"Surprise\",\n",
        "    6: \"Neutral\"\n",
        "}\n",
        "\n",
        "# Step 4: Visualize a Sample Image\n",
        "pixels = df['pixels'][0]\n",
        "emotion = df['emotion'][0]\n",
        "emotion_name = emotion_labels[emotion]\n",
        "pixels_array = np.fromstring(pixels, sep=' ').reshape(48, 48)\n",
        "\n",
        "import matplotlib.pyplot as plt\n",
        "plt.imshow(pixels_array, cmap='gray')\n",
        "plt.title(f'Emotion: {emotion_name}')\n",
        "plt.axis('off')\n",
        "plt.show()\n",
        "\n",
        "# Step 5: Preprocess the Dataset\n",
        "X = np.array([np.fromstring(p, sep=' ').reshape(48, 48) for p in df['pixels']])\n",
        "X = X / 255.0\n",
        "X = X.reshape(-1, 48, 48, 1)\n",
        "y = to_categorical(df['emotion'])\n",
        "\n",
        "# Split the dataset into training and testing sets\n",
        "X_train, X_test, y_train, y_test = train_test_split(X, y, test_size=0.2)\n",
        "\n",
        "# Step 6: Build the CNN Model\n",
        "model = Sequential([\n",
        "    Conv2D(32, (3, 3), activation='relu', input_shape=(48, 48, 1)),\n",
        "    MaxPooling2D(2, 2),\n",
        "    Conv2D(64, (3, 3), activation='relu'),\n",
        "    MaxPooling2D(2, 2),\n",
        "    Flatten(),\n",
        "    Dense(128, activation='relu'),\n",
        "    Dropout(0.5),\n",
        "    Dense(7, activation='softmax')\n",
        "])\n",
        "\n",
        "model.compile(optimizer='adam', loss='categorical_crossentropy', metrics=['accuracy'])\n",
        "\n",
        "# Step 7: Train the Model\n",
        "model.fit(X_train, y_train, validation_data=(X_test, y_test), epochs=10, batch_size=64)\n",
        "\n",
        "# Step 8: Predict and Display a Sample Image\n",
        "sample_index = 0\n",
        "prediction = model.predict(X_test[sample_index].reshape(1, 48, 48, 1))\n",
        "predicted_class = np.argmax(prediction)\n",
        "predicted_emotion = emotion_labels[predicted_class]\n",
        "\n",
        "plt.imshow(X_test[sample_index].reshape(48, 48), cmap='gray')\n",
        "plt.title(f'Predicted Emotion: {predicted_emotion}')\n",
        "plt.axis('off')\n",
        "plt.show()\n"
      ]
    },
    {
      "cell_type": "code",
      "source": [],
      "metadata": {
        "id": "MOTHo-XMN11B"
      },
      "execution_count": null,
      "outputs": []
    }
  ]
}